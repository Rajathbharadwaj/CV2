{
 "cells": [
  {
   "cell_type": "code",
   "execution_count": 1,
   "metadata": {},
   "outputs": [],
   "source": [
    "import numpy as np\n"
   ]
  },
  {
   "cell_type": "code",
   "execution_count": 2,
   "metadata": {},
   "outputs": [],
   "source": [
    "import cv2"
   ]
  },
  {
   "cell_type": "code",
   "execution_count": 3,
   "metadata": {},
   "outputs": [],
   "source": [
    "image = cv2.imread('test_image.jpg')"
   ]
  },
  {
   "cell_type": "code",
   "execution_count": 4,
   "metadata": {},
   "outputs": [],
   "source": [
    "lane_image = np.copy(image)"
   ]
  },
  {
   "cell_type": "code",
   "execution_count": 5,
   "metadata": {},
   "outputs": [],
   "source": [
    "grey = cv2.cvtColor(lane_image, cv2.COLOR_RGB2GRAY)"
   ]
  },
  {
   "cell_type": "code",
   "execution_count": 9,
   "metadata": {},
   "outputs": [],
   "source": [
    "blur = cv2.GaussianBlur(grey, (5,5),0)"
   ]
  },
  {
   "cell_type": "code",
   "execution_count": 16,
   "metadata": {},
   "outputs": [],
   "source": [
    "canny = cv2.Canny(blur,50,150)"
   ]
  },
  {
   "cell_type": "code",
   "execution_count": null,
   "metadata": {},
   "outputs": [],
   "source": []
  },
  {
   "cell_type": "code",
   "execution_count": 6,
   "metadata": {},
   "outputs": [
    {
     "name": "stdout",
     "output_type": "stream",
     "text": [
      "[[[116  91  75]\n",
      "  [194 174 134]\n",
      "  [194 174 134]\n",
      "  ..., \n",
      "  [248 238 215]\n",
      "  [248 238 215]\n",
      "  [248 238 215]]\n",
      "\n",
      " [[157 133 106]\n",
      "  [194 174 134]\n",
      "  [194 174 134]\n",
      "  ..., \n",
      "  [247 238 215]\n",
      "  [247 238 215]\n",
      "  [247 238 215]]\n",
      "\n",
      " [[185 163 127]\n",
      "  [194 174 134]\n",
      "  [194 174 134]\n",
      "  ..., \n",
      "  [247 238 215]\n",
      "  [247 238 215]\n",
      "  [247 238 215]]\n",
      "\n",
      " ..., \n",
      " [[ 74  80  85]\n",
      "  [ 74  80  85]\n",
      "  [ 74  80  85]\n",
      "  ..., \n",
      "  [ 73  74  82]\n",
      "  [ 73  74  82]\n",
      "  [ 73  74  82]]\n",
      "\n",
      " [[ 74  80  85]\n",
      "  [ 74  80  85]\n",
      "  [ 74  80  85]\n",
      "  ..., \n",
      "  [ 72  73  81]\n",
      "  [ 72  73  81]\n",
      "  [ 72  73  81]]\n",
      "\n",
      " [[ 74  80  85]\n",
      "  [ 74  80  85]\n",
      "  [ 74  80  85]\n",
      "  ..., \n",
      "  [ 72  73  81]\n",
      "  [ 72  73  81]\n",
      "  [ 72  73  81]]]\n"
     ]
    }
   ],
   "source": [
    "print(image)"
   ]
  },
  {
   "cell_type": "code",
   "execution_count": 17,
   "metadata": {},
   "outputs": [],
   "source": [
    "cv2.imshow('result1',canny)"
   ]
  },
  {
   "cell_type": "code",
   "execution_count": 15,
   "metadata": {},
   "outputs": [
    {
     "data": {
      "text/plain": [
       "-1"
      ]
     },
     "execution_count": 15,
     "metadata": {},
     "output_type": "execute_result"
    }
   ],
   "source": [
    "cv2.waitKey(0)"
   ]
  },
  {
   "cell_type": "code",
   "execution_count": null,
   "metadata": {},
   "outputs": [],
   "source": []
  }
 ],
 "metadata": {
  "kernelspec": {
   "display_name": "Python 3",
   "language": "python",
   "name": "python3"
  },
  "language_info": {
   "codemirror_mode": {
    "name": "ipython",
    "version": 3
   },
   "file_extension": ".py",
   "mimetype": "text/x-python",
   "name": "python",
   "nbconvert_exporter": "python",
   "pygments_lexer": "ipython3",
   "version": "3.5.2"
  }
 },
 "nbformat": 4,
 "nbformat_minor": 2
}
